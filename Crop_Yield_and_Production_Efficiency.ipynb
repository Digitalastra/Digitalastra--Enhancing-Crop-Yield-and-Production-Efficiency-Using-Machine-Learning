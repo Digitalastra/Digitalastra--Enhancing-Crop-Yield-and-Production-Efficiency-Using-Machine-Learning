{
  "cells": [
    {
      "cell_type": "markdown",
      "metadata": {
        "id": "view-in-github",
        "colab_type": "text"
      },
      "source": [
        "<a href=\"https://colab.research.google.com/github/Digitalastra/Digitalastra--Enhancing-Crop-Yield-and-Production-Efficiency-Using-Machine-Learning/blob/main/Enhancing_Crop_Yield_and_Production_Efficiency_Using_Machine_Learning.ipynb\" target=\"_parent\"><img src=\"https://colab.research.google.com/assets/colab-badge.svg\" alt=\"Open In Colab\"/></a>"
      ]
    },
    {
      "cell_type": "markdown",
      "metadata": {
        "id": "rBFnYRFdcpQc"
      },
      "source": [
        "### Problem Statement: Enhancing Crop Yield and Production Efficiency Using Machine Learning\n",
        "\n",
        "Agricultural productivity is a critical factor in ensuring food security and sustainability, especially in the face of growing global population and climate change. Your task is to develop a robust machine learning model to predict and optimize crop yield based on various factors, including but not limited to soil conditions, weather patterns, crop type, and farming practices.\n",
        "\n",
        "The objective is to not only accurately predict crop yield but also to provide actionable insights that can guide farmers in making data-driven decisions to enhance productivity.\n",
        "\n",
        "Dataset - https://www.kaggle.com/datasets/akshatgupta7/crop-yield-in-indian-states-dataset"
      ]
    },
    {
      "cell_type": "markdown",
      "metadata": {
        "id": "o5-XosLUdW2_"
      },
      "source": [
        "### Challenges:\n",
        " 1. Data Processing\n",
        "- Handling Missing Values: Identify missing values in the dataset and decide on appropriate imputation techniques or strategies for handling them.\n",
        "- Data Cleaning: Detect and correct inaccuracies, inconsistencies, or errors in the data, such as incorrect entries or anomalies.\n",
        "- Removing Duplicates: Identify and remove duplicate rows that may skew the model’s performance.\n",
        "- Outlier Detection: Identify and handle outliers that could disproportionately affect the model’s training and predictions.\n",
        "- Data Normalization: Standardize or normalize data to ensure that different features contribute equally to the model's training process.\n"
      ]
    },
    {
      "cell_type": "code",
      "execution_count": 1,
      "metadata": {
        "colab": {
          "base_uri": "https://localhost:8080/"
        },
        "id": "Knklgqb5OhS-",
        "outputId": "cd4a0e7a-d2bc-4e35-ac0f-eafe169fceb7"
      },
      "outputs": [
        {
          "output_type": "stream",
          "name": "stdout",
          "text": [
            "           Crop  Crop_Year       Season  State     Area  Production  \\\n",
            "0      Arecanut       1997  Whole Year   Assam  73814.0       56708   \n",
            "1     Arhar/Tur       1997  Kharif       Assam   6637.0        4685   \n",
            "2   Castor seed       1997  Kharif       Assam    796.0          22   \n",
            "3      Coconut        1997  Whole Year   Assam  19656.0   126905000   \n",
            "4  Cotton(lint)       1997  Kharif       Assam   1739.0         794   \n",
            "\n",
            "   Annual_Rainfall  Fertilizer  Pesticide        Yield  \n",
            "0           2051.4  7024878.38   22882.34     0.796087  \n",
            "1           2051.4   631643.29    2057.47     0.710435  \n",
            "2           2051.4    75755.32     246.76     0.238333  \n",
            "3           2051.4  1870661.52    6093.36  5238.051739  \n",
            "4           2051.4   165500.63     539.09     0.420909  \n",
            "Crop               0\n",
            "Crop_Year          0\n",
            "Season             0\n",
            "State              0\n",
            "Area               0\n",
            "Production         0\n",
            "Annual_Rainfall    0\n",
            "Fertilizer         0\n",
            "Pesticide          0\n",
            "Yield              0\n",
            "dtype: int64\n",
            "Data processed successfully.\n"
          ]
        }
      ],
      "source": [
        "import pandas as pd\n",
        "import numpy as np\n",
        "from scipy import stats\n",
        "from sklearn.preprocessing import MinMaxScaler\n",
        "\n",
        "\n",
        "df = pd.read_csv('crop_yield.csv')\n",
        "\n",
        "print(df.head())\n",
        "\n",
        "\n",
        "print(df.isnull().sum())\n",
        "\n",
        "\n",
        "numeric_columns = df.select_dtypes(include=np.number).columns\n",
        "non_numeric_columns = df.select_dtypes(exclude=np.number).columns\n",
        "\n",
        "\n",
        "df[numeric_columns] = df[numeric_columns].fillna(df[numeric_columns].mean())\n",
        "\n",
        "\n",
        "for col in non_numeric_columns:\n",
        "    df[col].fillna(df[col].mode()[0], inplace=True)\n",
        "\n",
        "\n",
        "df = df.drop_duplicates()\n",
        "\n",
        "\n",
        "z_scores = np.abs(stats.zscore(df.select_dtypes(include=np.number)))\n",
        "df = df[(z_scores < 3).all(axis=1)]\n",
        "\n",
        "\n",
        "scaler = MinMaxScaler()\n",
        "df[numeric_columns] = scaler.fit_transform(df[numeric_columns])\n",
        "\n",
        "print(\"Data processed successfully.\")"
      ]
    },
    {
      "cell_type": "code",
      "source": [
        "# print(len(df['State'].unique()))\n",
        "# print(len(df['State'].unique()))\n",
        "# print(len(df['Crop'].unique()))\n",
        "# print(len(df['Area'].unique()))\n",
        "# print(len(df['Yield'].unique()))\n",
        "# print(len(df['Annual_Rainfall'].unique()))\n",
        "# print(len(df['Fertilizer'].unique()))\n",
        "# print(len(df['Pesticide'].unique()))\n",
        "\n",
        "\n",
        "print(df[['Crop_Year', 'Season']])\n",
        "\n",
        "print(len(df['Season'].unique()))\n",
        "print(len(df['Crop_Year'].unique()))\n",
        "\n",
        "df.drop(['Season', 'Crop_Year'], axis=1, inplace=True)\n"
      ],
      "metadata": {
        "colab": {
          "base_uri": "https://localhost:8080/"
        },
        "id": "6WLf7wKyoZoW",
        "outputId": "3134eb94-4f43-40bc-c826-ec1669a9c228"
      },
      "execution_count": 2,
      "outputs": [
        {
          "output_type": "stream",
          "name": "stdout",
          "text": [
            "       Crop_Year       Season\n",
            "0       0.000000  Whole Year \n",
            "1       0.000000  Kharif     \n",
            "2       0.000000  Kharif     \n",
            "4       0.000000  Kharif     \n",
            "5       0.000000  Whole Year \n",
            "...          ...          ...\n",
            "19684   0.043478  Kharif     \n",
            "19685   0.043478  Rabi       \n",
            "19686   0.000000  Kharif     \n",
            "19687   0.000000  Kharif     \n",
            "19688   0.000000  Rabi       \n",
            "\n",
            "[18833 rows x 2 columns]\n",
            "6\n",
            "24\n"
          ]
        }
      ]
    },
    {
      "cell_type": "markdown",
      "metadata": {
        "id": "RkYt-h6vXRBN"
      },
      "source": [
        "2. Feature Selection\n",
        "- Feature Relevance: Evaluate the relevance of each feature in predicting crop yield. Determine which features are most influential.\n",
        "- Feature Redundancy: Identify and remove redundant features that provide no additional value to the model.\n"
      ]
    },
    {
      "cell_type": "code",
      "execution_count": 3,
      "metadata": {
        "colab": {
          "base_uri": "https://localhost:8080/",
          "height": 655
        },
        "id": "le76Q57jUOHQ",
        "outputId": "5bbf141e-258f-433b-9a04-1b47b8bd17e6"
      },
      "outputs": [
        {
          "output_type": "stream",
          "name": "stdout",
          "text": [
            "Selected Features: ['Production', 'Annual_Rainfall', 'Fertilizer', 'Area', 'Pesticide']\n",
            "Correlation with Yield: Production         0.334144\n",
            "Annual_Rainfall    0.023282\n",
            "Fertilizer         0.013388\n",
            "Area               0.012245\n",
            "Pesticide          0.011561\n",
            "Name: Yield, dtype: float64\n"
          ]
        },
        {
          "output_type": "display_data",
          "data": {
            "text/plain": [
              "<Figure size 640x480 with 2 Axes>"
            ],
            "image/png": "[encoded data removed]"
          },
          "metadata": {}
        }
      ],
      "source": [
        "import seaborn as sns\n",
        "import matplotlib.pyplot as plt\n",
        "\n",
        "\n",
        "numeric_df = df.select_dtypes(include=np.number)\n",
        "numeric_columns = df.select_dtypes(include=np.number).columns\n",
        "corr_matrix = df[numeric_columns].corr()\n",
        "\n",
        "\n",
        "target_corr = corr_matrix['Yield'].abs().sort_values(ascending=False)\n",
        "top_features = target_corr.index[1:6]\n",
        "\n",
        "\n",
        "df_selected = df[top_features]\n",
        "\n",
        "\n",
        "print(\"Selected Features:\", top_features.tolist())\n",
        "print(\"Correlation with Yield:\", target_corr[1:6])\n",
        "\n",
        "\n",
        "sns.heatmap(df_selected.corr(), annot=True, cmap='coolwarm')\n",
        "plt.show()"
      ]
    },
    {
      "cell_type": "markdown",
      "metadata": {
        "id": "K5DhS0saXaec"
      },
      "source": [
        "3. Feature Engineering\n",
        "- Creating New Features: Develop new features that might better capture the relationships between inputs and crop yield. For example, interaction terms or aggregated features based on weather patterns.\n",
        "- Feature Transformation: Apply transformations to existing features, such as logarithmic or polynomial transformations, to improve the model's ability to capture complex relationships.\n"
      ]
    },
    {
      "cell_type": "code",
      "execution_count": 9,
      "metadata": {
        "colab": {
          "base_uri": "https://localhost:8080/"
        },
        "id": "cyQls2DWXeVc",
        "outputId": "db9ef5f3-2114-4184-e205-b432cc2595e7"
      },
      "outputs": [
        {
          "output_type": "stream",
          "name": "stdout",
          "text": [
            "Columns in DataFrame: Index(['Crop', 'State', 'Area', 'Production', 'Annual_Rainfall', 'Fertilizer',\n",
            "       'Pesticide', 'Yield'],\n",
            "      dtype='object')\n",
            "Data processing complete.\n"
          ]
        }
      ],
      "source": [
        "from sklearn.preprocessing import PolynomialFeatures\n",
        "\n",
        "\n",
        "\n",
        "print(\"Columns in DataFrame:\", df.columns)\n",
        "\n",
        "\n",
        "if 'Area' in df.columns and 'Annual_Rainfall' in df.columns:\n",
        "    df['area_rainfall_interaction'] = df['Area'] * df['Annual_Rainfall']\n",
        "else:\n",
        "    print(\"Columns 'Area' and/or 'Annual_Rainfall' are missing from the DataFrame.\")\n",
        "\n",
        "\n",
        "if 'Annual_Rainfall' in df.columns and 'Fertilizer' in df.columns:\n",
        "    poly = PolynomialFeatures(degree=2)\n",
        "    poly_features = poly.fit_transform(df[['Annual_Rainfall', 'Fertilizer']])\n",
        "\n",
        "\n",
        "    poly_features_df = pd.DataFrame(poly_features,\n",
        "                                    columns=poly.get_feature_names_out(['Annual_Rainfall', 'Fertilizer']))\n",
        "\n",
        "\n",
        "    df = pd.concat([df, poly_features_df], axis=1)\n",
        "else:\n",
        "    print(\"Columns 'Annual_Rainfall' and/or 'Fertilizer' are missing from the DataFrame.\")\n",
        "\n",
        "print(\"Data processing complete.\")"
      ]
    },
    {
      "cell_type": "markdown",
      "metadata": {
        "id": "V47-7DPWXjI3"
      },
      "source": [
        " 4. Model Selection\n",
        "- Choosing Algorithms: Evaluate and select appropriate machine learning algorithms based on the nature of the problem, such as regression models for continuous yield prediction.\n",
        "- Algorithm Comparison: Compare different algorithms to determine which provides the best balance between accuracy and computational efficiency.\n",
        "\n",
        " 5. Model Training and Grid Search\n",
        "- Hyperparameter Tuning: Use techniques like Grid Search or Random Search to find the optimal hyperparameters for the selected algorithms.\n",
        "- Training Process: Train the model on the prepared dataset, ensuring that it learns to generalise well to new, unseen data.\n",
        "- Cross-Validation: Implement cross-validation to evaluate the model's performance and avoid overfitting by ensuring it performs well on different subsets of the data.\n",
        "\n",
        " 6. Model Evaluation\n",
        "- Performance Metrics: Use metrics such as Mean Absolute Error (MAE), Mean Squared Error (MSE), or R-squared to assess the model's accuracy and performance.\n",
        "\n"
      ]
    },
    {
      "cell_type": "code",
      "execution_count": 5,
      "metadata": {
        "colab": {
          "base_uri": "https://localhost:8080/"
        },
        "id": "oA5cAicVXjyt",
        "outputId": "d5e5c1af-57f5-4629-816b-e4524999f5a2"
      },
      "outputs": [
        {
          "output_type": "stream",
          "name": "stdout",
          "text": [
            "Categorical columns: Index(['Crop', 'State'], dtype='object')\n",
            "Cross-Validation MSE: 0.00010371398166132023\n",
            "MAE: 0.0008851271175964328\n",
            "MSE: 6.149677568367152e-05\n",
            "R-squared: 0.6899991991180657\n"
          ]
        }
      ],
      "source": [
        "from sklearn.model_selection import train_test_split, GridSearchCV, cross_val_score\n",
        "from sklearn.ensemble import RandomForestRegressor\n",
        "from sklearn.metrics import mean_squared_error, mean_absolute_error, r2_score\n",
        "\n",
        "\n",
        "categorical_columns = df.select_dtypes(include=['object']).columns\n",
        "print(\"Categorical columns:\", categorical_columns)\n",
        "\n",
        "\n",
        "df_encoded = pd.get_dummies(df, columns=categorical_columns, drop_first=True)\n",
        "\n",
        "\n",
        "X = df_encoded.drop('Yield', axis=1)\n",
        "y = df_encoded['Yield']\n",
        "\n",
        "\n",
        "X_train, X_test, y_train, y_test = train_test_split(X, y, test_size=0.2, random_state=42)\n",
        "\n",
        "model = RandomForestRegressor()\n",
        "\n",
        "\n",
        "param_grid = {\n",
        "    'n_estimators': [100, 200],\n",
        "    'max_depth': [10, 20, None]\n",
        "}\n",
        "grid_search = GridSearchCV(model, param_grid, cv=5, scoring='neg_mean_squared_error', n_jobs=-1)\n",
        "grid_search.fit(X_train, y_train)\n",
        "\n",
        "\n",
        "best_model = grid_search.best_estimator_\n",
        "\n",
        "cv_scores = cross_val_score(best_model, X_train, y_train, cv=5, scoring='neg_mean_squared_error')\n",
        "mean_cv_mse = -cv_scores.mean()\n",
        "print(f'Cross-Validation MSE: {mean_cv_mse}')\n",
        "\n",
        "\n",
        "y_pred = best_model.predict(X_test)\n",
        "print(f'MAE: {mean_absolute_error(y_test, y_pred)}')\n",
        "print(f'MSE: {mean_squared_error(y_test, y_pred)}')\n",
        "print(f'R-squared: {r2_score(y_test, y_pred)}')\n",
        "\n",
        "\n",
        "\n"
      ]
    },
    {
      "cell_type": "code",
      "execution_count": 6,
      "metadata": {
        "id": "s-mvGsT1luwH"
      },
      "outputs": [],
      "source": [
        "import joblib\n",
        "\n",
        "\n",
        "joblib.dump(best_model, 'best_model.pkl')\n",
        "\n",
        "\n",
        "model = joblib.load('best_model.pkl')\n"
      ]
    },
    {
      "cell_type": "code",
      "execution_count": 7,
      "metadata": {
        "colab": {
          "base_uri": "https://localhost:8080/"
        },
        "id": "JpDcekfaqtul",
        "outputId": "8c68f46d-84cc-45ed-9c89-769a3513d58d"
      },
      "outputs": [
        {
          "output_type": "execute_result",
          "data": {
            "text/plain": [
              "['scaler.pkl']"
            ]
          },
          "metadata": {},
          "execution_count": 7
        }
      ],
      "source": [
        "scaler = MinMaxScaler()\n",
        "scaler.fit(X_train)\n",
        "\n",
        "\n",
        "joblib.dump(scaler, 'scaler.pkl')\n",
        "\n",
        "\n"
      ]
    },
    {
      "cell_type": "code",
      "source": [
        "poly = PolynomialFeatures(degree=2)\n",
        "\n",
        "joblib.dump(poly, 'poly.pkl')"
      ],
      "metadata": {
        "colab": {
          "base_uri": "https://localhost:8080/"
        },
        "id": "1qRXiE5Rx42M",
        "outputId": "e7f4e6a6-ac5f-4715-e059-eaf175d9e0d6"
      },
      "execution_count": 8,
      "outputs": [
        {
          "output_type": "execute_result",
          "data": {
            "text/plain": [
              "['poly.pkl']"
            ]
          },
          "metadata": {},
          "execution_count": 8
        }
      ]
    },
    {
      "cell_type": "markdown",
      "source": [
        "### this part for vs code or any other code editor."
      ],
      "metadata": {
        "id": "HsJmCBpo2UkP"
      }
    },
    {
      "cell_type": "code",
      "execution_count": 10,
      "metadata": {
        "id": "GhkLcLxgtuV8"
      },
      "outputs": [],
      "source": [
        "# !pip install fastapi uvicorn pyngrok nest_asyncio\n",
        "# from fastapi import FastAPI, HTTPException\n",
        "# from pydantic import BaseModel\n",
        "# import pandas as pd\n",
        "# import numpy as np\n",
        "# import joblib\n",
        "# from typing import Dict\n",
        "\n",
        "# app = FastAPI()\n",
        "\n",
        "\n",
        "# model = joblib.load('best_model.pkl')\n",
        "# poly = joblib.load('poly.pkl')\n",
        "# scaler = joblib.load('scaler.pkl')\n",
        "\n",
        "\n",
        "# class PredictRequest(BaseModel):\n",
        "#     Annual_Rainfall: float\n",
        "    # Crop_Barley: float\n",
        "    # Crop_Banana: float\n",
        "    # Area: float\n",
        "    # Crop_Cashewnut: float\n",
        "    # Fertilizer : float\n",
        "\n",
        "# @app.post('/predict')\n",
        "# async def predict(request: PredictRequest):\n",
        "#     data = request.dict()\n",
        "\n",
        "\n",
        "#     df_input = pd.DataFrame([data])\n",
        "\n",
        "\n",
        "#     required_features = ['Annual_Rainfall', 'Area', 'Fertilizer']\n",
        "#     missing_features = [feature for feature in required_features if feature not in df_input.columns]\n",
        "#     if missing_features:\n",
        "#         raise HTTPException(status_code=400, detail=f\"Missing features: {', '.join(missing_features)}\")\n",
        "\n",
        "\n",
        "#     numeric_columns = df_input.select_dtypes(include=np.number).columns\n",
        "#     df_input[numeric_columns] = scaler.transform(df_input[numeric_columns])\n",
        "\n",
        "\n",
        "#     if 'Fertilizer' in df_input.columns and 'Annual_Rainfall' in df_input.columns:\n",
        "#         poly_features = poly.transform(df_input[['Annual_Rainfall', 'Fertilizer']])\n",
        "#         poly_features_df = pd.DataFrame(poly_features,\n",
        "#                                         columns=poly.get_feature_names_out(['Annual_Rainfall', 'Fertilizer']))\n",
        "#         df_input = pd.concat([df_input, poly_features_df], axis=1)\n",
        "\n",
        "\n",
        "#     df_input_encoded = pd.get_dummies(df_input, drop_first=True)\n",
        "\n",
        "\n",
        "#     model_features = model.feature_names_in_\n",
        "#     missing_cols = set(model_features) - set(df_input_encoded.columns)\n",
        "#     for col in missing_cols:\n",
        "#         df_input_encoded[col] = 0\n",
        "#     df_input_encoded = df_input_encoded[model_features]\n",
        "\n",
        "\n",
        "#     prediction = model.predict(df_input_encoded)\n",
        "\n",
        "#     return {'prediction': prediction.tolist()}\n",
        "\n",
        "# if __name__ == '__main__':\n",
        "#     import uvicorn\n",
        "#     uvicorn.run(app, port=8001, log_level='debug')\n",
        "\n",
        "\n",
        "\n"
      ]
    },
    {
      "cell_type": "code",
      "execution_count": null,
      "metadata": {
        "id": "dnQJOkS2hkkS"
      },
      "outputs": [],
      "source": []
    }
  ],
  "metadata": {
    "colab": {
      "gpuType": "T4",
      "provenance": [],
      "authorship_tag": "ABX9TyOLJHYzcwSBuq8VnitaT4Y+",
      "include_colab_link": true
    },
    "kernelspec": {
      "display_name": "Python 3",
      "name": "python3"
    },
    "language_info": {
      "name": "python"
    }
  },
  "nbformat": 4,
  "nbformat_minor": 0
}
